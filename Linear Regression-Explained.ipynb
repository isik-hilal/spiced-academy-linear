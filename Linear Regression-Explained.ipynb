{
 "cells": [
  {
   "cell_type": "code",
   "execution_count": 74,
   "id": "8f1d72ef",
   "metadata": {},
   "outputs": [],
   "source": [
    "# Importing data libraries\n",
    "import numpy as np\n",
    "import pandas as pd\n",
    "# Practical\n",
    "import warnings\n",
    "warnings.simplefilter(\"ignore\")  #ignoring the warnings"
   ]
  },
  {
   "cell_type": "markdown",
   "id": "31d071c2",
   "metadata": {},
   "source": [
    "### About the Data"
   ]
  },
  {
   "cell_type": "code",
   "execution_count": 75,
   "id": "bae1b086",
   "metadata": {},
   "outputs": [],
   "source": [
    "df=pd.read_excel('sat.xls')        #read xls file\n",
    "#df=pd.read_csv('diamonds.csv')     #read csv file"
   ]
  },
  {
   "cell_type": "code",
   "execution_count": 76,
   "id": "852f60b1",
   "metadata": {},
   "outputs": [
    {
     "data": {
      "text/html": [
       "<div>\n",
       "<style scoped>\n",
       "    .dataframe tbody tr th:only-of-type {\n",
       "        vertical-align: middle;\n",
       "    }\n",
       "\n",
       "    .dataframe tbody tr th {\n",
       "        vertical-align: top;\n",
       "    }\n",
       "\n",
       "    .dataframe thead th {\n",
       "        text-align: right;\n",
       "    }\n",
       "</style>\n",
       "<table border=\"1\" class=\"dataframe\">\n",
       "  <thead>\n",
       "    <tr style=\"text-align: right;\">\n",
       "      <th></th>\n",
       "      <th>high_GPA</th>\n",
       "      <th>math_SAT</th>\n",
       "      <th>verb_SAT</th>\n",
       "      <th>comp_GPA</th>\n",
       "      <th>univ_GPA</th>\n",
       "    </tr>\n",
       "  </thead>\n",
       "  <tbody>\n",
       "    <tr>\n",
       "      <th>0</th>\n",
       "      <td>3.45</td>\n",
       "      <td>643</td>\n",
       "      <td>589</td>\n",
       "      <td>3.76</td>\n",
       "      <td>3.52</td>\n",
       "    </tr>\n",
       "    <tr>\n",
       "      <th>1</th>\n",
       "      <td>2.78</td>\n",
       "      <td>558</td>\n",
       "      <td>512</td>\n",
       "      <td>2.87</td>\n",
       "      <td>2.91</td>\n",
       "    </tr>\n",
       "    <tr>\n",
       "      <th>2</th>\n",
       "      <td>2.52</td>\n",
       "      <td>583</td>\n",
       "      <td>503</td>\n",
       "      <td>2.54</td>\n",
       "      <td>2.40</td>\n",
       "    </tr>\n",
       "    <tr>\n",
       "      <th>3</th>\n",
       "      <td>3.67</td>\n",
       "      <td>685</td>\n",
       "      <td>602</td>\n",
       "      <td>3.83</td>\n",
       "      <td>3.47</td>\n",
       "    </tr>\n",
       "    <tr>\n",
       "      <th>4</th>\n",
       "      <td>3.24</td>\n",
       "      <td>592</td>\n",
       "      <td>538</td>\n",
       "      <td>3.29</td>\n",
       "      <td>3.47</td>\n",
       "    </tr>\n",
       "  </tbody>\n",
       "</table>\n",
       "</div>"
      ],
      "text/plain": [
       "   high_GPA  math_SAT  verb_SAT  comp_GPA  univ_GPA\n",
       "0      3.45       643       589      3.76      3.52\n",
       "1      2.78       558       512      2.87      2.91\n",
       "2      2.52       583       503      2.54      2.40\n",
       "3      3.67       685       602      3.83      3.47\n",
       "4      3.24       592       538      3.29      3.47"
      ]
     },
     "execution_count": 76,
     "metadata": {},
     "output_type": "execute_result"
    }
   ],
   "source": [
    "#DISPLAY THE FIRST 5 ROWS\n",
    "df.head()"
   ]
  },
  {
   "cell_type": "markdown",
   "id": "692bfe7a",
   "metadata": {},
   "source": [
    "This study examines the SAT and GPA information of 105 students who graduated from a state university with a B.S. in computer science. \n",
    "The question is: Using the grades and test scores from high school, can you predict a student's college grades?\n",
    "\n",
    "<b>Descriptions of Variables</b>\n",
    "\n",
    "SAT: Scholastic Assessment Test\n",
    "\n",
    "GPA: Grade Point Average\n",
    "\n",
    "\n",
    "- high_GPA:\tHigh school grade point average\n",
    "- math_SAT:\tMath SAT score\n",
    "- verb_SAT:\tVerbal SAT score\n",
    "- comp_GPA: Computer science grade point average\n",
    "- univ_GPA:\tOverall university grade point average\n"
   ]
  },
  {
   "cell_type": "code",
   "execution_count": 77,
   "id": "c5c958e0",
   "metadata": {},
   "outputs": [
    {
     "data": {
      "text/plain": [
       "(105, 5)"
      ]
     },
     "execution_count": 77,
     "metadata": {},
     "output_type": "execute_result"
    }
   ],
   "source": [
    "#CHEKING HOW MANY ROWS AND COLUMNS DF HAS\n",
    "df.shape"
   ]
  },
  {
   "cell_type": "code",
   "execution_count": 78,
   "id": "4c30afc4",
   "metadata": {},
   "outputs": [
    {
     "name": "stdout",
     "output_type": "stream",
     "text": [
      "<class 'pandas.core.frame.DataFrame'>\n",
      "RangeIndex: 105 entries, 0 to 104\n",
      "Data columns (total 5 columns):\n",
      " #   Column    Non-Null Count  Dtype  \n",
      "---  ------    --------------  -----  \n",
      " 0   high_GPA  105 non-null    float64\n",
      " 1   math_SAT  105 non-null    int64  \n",
      " 2   verb_SAT  105 non-null    int64  \n",
      " 3   comp_GPA  105 non-null    float64\n",
      " 4   univ_GPA  105 non-null    float64\n",
      "dtypes: float64(3), int64(2)\n",
      "memory usage: 4.2 KB\n"
     ]
    }
   ],
   "source": [
    "#GETTING DF INFO\n",
    "df.info()"
   ]
  },
  {
   "cell_type": "code",
   "execution_count": 79,
   "id": "07066dc0",
   "metadata": {},
   "outputs": [
    {
     "data": {
      "text/plain": [
       "high_GPA    0\n",
       "math_SAT    0\n",
       "verb_SAT    0\n",
       "comp_GPA    0\n",
       "univ_GPA    0\n",
       "dtype: int64"
      ]
     },
     "execution_count": 79,
     "metadata": {},
     "output_type": "execute_result"
    }
   ],
   "source": [
    "#Find the missing values from each column\n",
    "#df.isnull().sum()\n",
    "#Example:\n",
    "df.isnull().sum()"
   ]
  },
  {
   "cell_type": "markdown",
   "id": "d73ab63f",
   "metadata": {},
   "source": [
    "#### 1- We do not have any null values. What if we have?"
   ]
  },
  {
   "cell_type": "markdown",
   "id": "d71b550f",
   "metadata": {},
   "source": [
    "- Deleting the Missing values\n",
    "- Imputing the Missing Values"
   ]
  },
  {
   "cell_type": "markdown",
   "id": "93674ec3",
   "metadata": {},
   "source": [
    "#### 2- We do not have any categorical values in our data set. If we have categorical values what do we do?"
   ]
  },
  {
   "attachments": {
    "dummy.png": {
     "image/png": "[encoded data removed]"
    }
   },
   "cell_type": "markdown",
   "id": "ac8c9a19",
   "metadata": {},
   "source": [
    "<b> Dummy Coding \n",
    "\n",
    "- Seperate the categorical and numerical values and create new dataframes\n",
    "- df_cat = df.select_dtypes('object')\n",
    "- df_num = df.select_dtypes('number')\n",
    "- df_dummy =pd.get_dummies(df_cat, drop_first=True)\n",
    "\n",
    "   \n",
    "![dummy.png](attachment:dummy.png)\n"
   ]
  },
  {
   "cell_type": "code",
   "execution_count": 80,
   "id": "7841d9d3",
   "metadata": {},
   "outputs": [
    {
     "data": {
      "text/html": [
       "<div>\n",
       "<style scoped>\n",
       "    .dataframe tbody tr th:only-of-type {\n",
       "        vertical-align: middle;\n",
       "    }\n",
       "\n",
       "    .dataframe tbody tr th {\n",
       "        vertical-align: top;\n",
       "    }\n",
       "\n",
       "    .dataframe thead th {\n",
       "        text-align: right;\n",
       "    }\n",
       "</style>\n",
       "<table border=\"1\" class=\"dataframe\">\n",
       "  <thead>\n",
       "    <tr style=\"text-align: right;\">\n",
       "      <th></th>\n",
       "      <th>high_GPA</th>\n",
       "      <th>math_SAT</th>\n",
       "      <th>verb_SAT</th>\n",
       "      <th>comp_GPA</th>\n",
       "      <th>univ_GPA</th>\n",
       "    </tr>\n",
       "  </thead>\n",
       "  <tbody>\n",
       "    <tr>\n",
       "      <th>count</th>\n",
       "      <td>105.000000</td>\n",
       "      <td>105.000000</td>\n",
       "      <td>105.000000</td>\n",
       "      <td>105.000000</td>\n",
       "      <td>105.000000</td>\n",
       "    </tr>\n",
       "    <tr>\n",
       "      <th>mean</th>\n",
       "      <td>3.076381</td>\n",
       "      <td>623.076190</td>\n",
       "      <td>598.600000</td>\n",
       "      <td>3.128000</td>\n",
       "      <td>3.172857</td>\n",
       "    </tr>\n",
       "    <tr>\n",
       "      <th>std</th>\n",
       "      <td>0.516598</td>\n",
       "      <td>53.760454</td>\n",
       "      <td>62.963604</td>\n",
       "      <td>0.509046</td>\n",
       "      <td>0.447194</td>\n",
       "    </tr>\n",
       "    <tr>\n",
       "      <th>min</th>\n",
       "      <td>2.030000</td>\n",
       "      <td>516.000000</td>\n",
       "      <td>480.000000</td>\n",
       "      <td>2.030000</td>\n",
       "      <td>2.080000</td>\n",
       "    </tr>\n",
       "    <tr>\n",
       "      <th>25%</th>\n",
       "      <td>2.670000</td>\n",
       "      <td>573.000000</td>\n",
       "      <td>548.000000</td>\n",
       "      <td>2.870000</td>\n",
       "      <td>3.010000</td>\n",
       "    </tr>\n",
       "    <tr>\n",
       "      <th>50%</th>\n",
       "      <td>3.170000</td>\n",
       "      <td>612.000000</td>\n",
       "      <td>591.000000</td>\n",
       "      <td>3.210000</td>\n",
       "      <td>3.290000</td>\n",
       "    </tr>\n",
       "    <tr>\n",
       "      <th>75%</th>\n",
       "      <td>3.480000</td>\n",
       "      <td>675.000000</td>\n",
       "      <td>645.000000</td>\n",
       "      <td>3.490000</td>\n",
       "      <td>3.470000</td>\n",
       "    </tr>\n",
       "    <tr>\n",
       "      <th>max</th>\n",
       "      <td>4.000000</td>\n",
       "      <td>718.000000</td>\n",
       "      <td>732.000000</td>\n",
       "      <td>4.000000</td>\n",
       "      <td>3.810000</td>\n",
       "    </tr>\n",
       "  </tbody>\n",
       "</table>\n",
       "</div>"
      ],
      "text/plain": [
       "         high_GPA    math_SAT    verb_SAT    comp_GPA    univ_GPA\n",
       "count  105.000000  105.000000  105.000000  105.000000  105.000000\n",
       "mean     3.076381  623.076190  598.600000    3.128000    3.172857\n",
       "std      0.516598   53.760454   62.963604    0.509046    0.447194\n",
       "min      2.030000  516.000000  480.000000    2.030000    2.080000\n",
       "25%      2.670000  573.000000  548.000000    2.870000    3.010000\n",
       "50%      3.170000  612.000000  591.000000    3.210000    3.290000\n",
       "75%      3.480000  675.000000  645.000000    3.490000    3.470000\n",
       "max      4.000000  718.000000  732.000000    4.000000    3.810000"
      ]
     },
     "execution_count": 80,
     "metadata": {},
     "output_type": "execute_result"
    }
   ],
   "source": [
    "df.describe()"
   ]
  },
  {
   "cell_type": "code",
   "execution_count": 81,
   "id": "62658440",
   "metadata": {},
   "outputs": [],
   "source": [
    "import seaborn as sns \n",
    "import matplotlib.pyplot as plt\n",
    "%matplotlib inline"
   ]
  },
  {
   "cell_type": "code",
   "execution_count": 82,
   "id": "90b5b918",
   "metadata": {},
   "outputs": [
    {
     "data": {
      "text/plain": [
       "<seaborn.axisgrid.FacetGrid at 0x27fef4422b0>"
      ]
     },
     "execution_count": 82,
     "metadata": {},
     "output_type": "execute_result"
    },
    {
     "data": {
      "image/png": "[encoded data removed]",
      "text/plain": [
       "<Figure size 360x360 with 1 Axes>"
      ]
     },
     "metadata": {
      "needs_background": "light"
     },
     "output_type": "display_data"
    }
   ],
   "source": [
    "sns.displot(df, x=\"high_GPA\")"
   ]
  },
  {
   "cell_type": "code",
   "execution_count": 83,
   "id": "0383a717",
   "metadata": {},
   "outputs": [
    {
     "data": {
      "text/plain": [
       "<AxesSubplot:xlabel='math_SAT', ylabel='Count'>"
      ]
     },
     "execution_count": 83,
     "metadata": {},
     "output_type": "execute_result"
    },
    {
     "data": {
      "image/png": "[encoded data removed]",
      "text/plain": [
       "<Figure size 720x936 with 4 Axes>"
      ]
     },
     "metadata": {
      "needs_background": "light"
     },
     "output_type": "display_data"
    }
   ],
   "source": [
    "fig, ax = plt.subplots(2,2, figsize = (10,13))\n",
    "                                         \n",
    "sns.histplot(x=df['verb_SAT'], kde = True, color='red', ax=ax[0,0])\n",
    "sns.histplot(x=df['high_GPA'], kde = True, ax=ax[0,1])\n",
    "sns.histplot(x=df['comp_GPA'], kde = True, color='purple', ax=ax[1,0])\n",
    "sns.histplot(x=df['math_SAT'], kde = True, color='green', ax=ax[1,1])\n"
   ]
  },
  {
   "cell_type": "code",
   "execution_count": 84,
   "id": "cf72ed2c",
   "metadata": {},
   "outputs": [
    {
     "data": {
      "text/plain": [
       "<AxesSubplot:xlabel='math_SAT'>"
      ]
     },
     "execution_count": 84,
     "metadata": {},
     "output_type": "execute_result"
    },
    {
     "data": {
      "image/png": "[encoded data removed]",
      "text/plain": [
       "<Figure size 504x720 with 4 Axes>"
      ]
     },
     "metadata": {
      "needs_background": "light"
     },
     "output_type": "display_data"
    }
   ],
   "source": [
    "fig, ax = plt.subplots(2,2, figsize = (7,10))\n",
    "                                         \n",
    "sns.boxplot(x=df['verb_SAT'],  color='red', ax=ax[0,0])\n",
    "sns.boxplot(x=df['high_GPA'],  ax=ax[0,1])\n",
    "sns.boxplot(x=df['comp_GPA'],  color='purple', ax=ax[1,0])\n",
    "sns.boxplot(x=df['math_SAT'],  color='green', ax=ax[1,1])"
   ]
  },
  {
   "cell_type": "code",
   "execution_count": 85,
   "id": "e75ff0d0",
   "metadata": {},
   "outputs": [
    {
     "name": "stderr",
     "output_type": "stream",
     "text": [
      "No artists with labels found to put in legend.  Note that artists whose label start with an underscore are ignored when legend() is called with no argument.\n"
     ]
    },
    {
     "data": {
      "image/png": "[encoded data removed]",
      "text/plain": [
       "<Figure size 576x576 with 2 Axes>"
      ]
     },
     "metadata": {
      "needs_background": "light"
     },
     "output_type": "display_data"
    }
   ],
   "source": [
    "fig, ax = plt.subplots(figsize=(8,8))\n",
    "ay = ax.twiny()\n",
    "ax.scatter(df['high_GPA'], df['univ_GPA'])\n",
    "ax.legend()\n",
    "ay.scatter(df['comp_GPA'], df['univ_GPA'], color='r')\n",
    "plt.show()"
   ]
  },
  {
   "cell_type": "code",
   "execution_count": 86,
   "id": "827cb24e",
   "metadata": {},
   "outputs": [
    {
     "data": {
      "text/plain": [
       "<AxesSubplot:xlabel='math_SAT', ylabel='univ_GPA'>"
      ]
     },
     "execution_count": 86,
     "metadata": {},
     "output_type": "execute_result"
    },
    {
     "data": {
      "image/png": "[encoded data removed]",
      "text/plain": [
       "<Figure size 432x288 with 1 Axes>"
      ]
     },
     "metadata": {
      "needs_background": "light"
     },
     "output_type": "display_data"
    }
   ],
   "source": [
    "sns.scatterplot(data=df, x='math_SAT', y='univ_GPA')"
   ]
  },
  {
   "cell_type": "code",
   "execution_count": 87,
   "id": "61214523",
   "metadata": {},
   "outputs": [
    {
     "data": {
      "text/plain": [
       "<AxesSubplot:xlabel='verb_SAT', ylabel='univ_GPA'>"
      ]
     },
     "execution_count": 87,
     "metadata": {},
     "output_type": "execute_result"
    },
    {
     "data": {
      "image/png": "[encoded data removed]",
      "text/plain": [
       "<Figure size 432x288 with 1 Axes>"
      ]
     },
     "metadata": {
      "needs_background": "light"
     },
     "output_type": "display_data"
    }
   ],
   "source": [
    "sns.scatterplot(data=df, x='verb_SAT', y='univ_GPA')"
   ]
  },
  {
   "cell_type": "code",
   "execution_count": 88,
   "id": "4b1e0331",
   "metadata": {},
   "outputs": [
    {
     "data": {
      "image/png": "[encoded data removed]",
      "text/plain": [
       "<Figure size 648x504 with 2 Axes>"
      ]
     },
     "metadata": {},
     "output_type": "display_data"
    }
   ],
   "source": [
    "corr = df.corr()\n",
    "mask = np.zeros_like(corr)\n",
    "mask[np.triu_indices_from(mask)] = True      \n",
    "with sns.axes_style(\"white\"):\n",
    "    f, ax = plt.subplots(figsize=(9, 7))\n",
    "    ax = sns.heatmap(corr, mask=mask,cmap='coolwarm', vmin=-1,vmax=1,annot=True, square=True)"
   ]
  },
  {
   "cell_type": "markdown",
   "id": "6375e7c6",
   "metadata": {},
   "source": [
    "### Define X and y"
   ]
  },
  {
   "cell_type": "code",
   "execution_count": 89,
   "id": "f5beea1e",
   "metadata": {},
   "outputs": [
    {
     "data": {
      "text/html": [
       "<div>\n",
       "<style scoped>\n",
       "    .dataframe tbody tr th:only-of-type {\n",
       "        vertical-align: middle;\n",
       "    }\n",
       "\n",
       "    .dataframe tbody tr th {\n",
       "        vertical-align: top;\n",
       "    }\n",
       "\n",
       "    .dataframe thead th {\n",
       "        text-align: right;\n",
       "    }\n",
       "</style>\n",
       "<table border=\"1\" class=\"dataframe\">\n",
       "  <thead>\n",
       "    <tr style=\"text-align: right;\">\n",
       "      <th></th>\n",
       "      <th>high_GPA</th>\n",
       "      <th>math_SAT</th>\n",
       "      <th>verb_SAT</th>\n",
       "      <th>comp_GPA</th>\n",
       "    </tr>\n",
       "  </thead>\n",
       "  <tbody>\n",
       "    <tr>\n",
       "      <th>0</th>\n",
       "      <td>3.45</td>\n",
       "      <td>643</td>\n",
       "      <td>589</td>\n",
       "      <td>3.76</td>\n",
       "    </tr>\n",
       "    <tr>\n",
       "      <th>1</th>\n",
       "      <td>2.78</td>\n",
       "      <td>558</td>\n",
       "      <td>512</td>\n",
       "      <td>2.87</td>\n",
       "    </tr>\n",
       "    <tr>\n",
       "      <th>2</th>\n",
       "      <td>2.52</td>\n",
       "      <td>583</td>\n",
       "      <td>503</td>\n",
       "      <td>2.54</td>\n",
       "    </tr>\n",
       "    <tr>\n",
       "      <th>3</th>\n",
       "      <td>3.67</td>\n",
       "      <td>685</td>\n",
       "      <td>602</td>\n",
       "      <td>3.83</td>\n",
       "    </tr>\n",
       "    <tr>\n",
       "      <th>4</th>\n",
       "      <td>3.24</td>\n",
       "      <td>592</td>\n",
       "      <td>538</td>\n",
       "      <td>3.29</td>\n",
       "    </tr>\n",
       "  </tbody>\n",
       "</table>\n",
       "</div>"
      ],
      "text/plain": [
       "   high_GPA  math_SAT  verb_SAT  comp_GPA\n",
       "0      3.45       643       589      3.76\n",
       "1      2.78       558       512      2.87\n",
       "2      2.52       583       503      2.54\n",
       "3      3.67       685       602      3.83\n",
       "4      3.24       592       538      3.29"
      ]
     },
     "execution_count": 89,
     "metadata": {},
     "output_type": "execute_result"
    }
   ],
   "source": [
    "X=df.drop('univ_GPA', axis=1)\n",
    "y=df.univ_GPA\n",
    "\n",
    "X.head()"
   ]
  },
  {
   "cell_type": "markdown",
   "id": "88d0805b",
   "metadata": {},
   "source": [
    "### Splitting the data into train and test"
   ]
  },
  {
   "cell_type": "code",
   "execution_count": 90,
   "id": "1c1b189a",
   "metadata": {},
   "outputs": [],
   "source": [
    "#import the necessary library\n",
    "from sklearn.model_selection import train_test_split"
   ]
  },
  {
   "cell_type": "code",
   "execution_count": 91,
   "id": "33023063",
   "metadata": {},
   "outputs": [
    {
     "data": {
      "text/plain": [
       "(73, 4)"
      ]
     },
     "execution_count": 91,
     "metadata": {},
     "output_type": "execute_result"
    }
   ],
   "source": [
    "X_train, X_test, y_train, y_test=train_test_split(X, y, test_size=.30, random_state=123)\n",
    "\n",
    "X_train.shape"
   ]
  },
  {
   "cell_type": "code",
   "execution_count": 92,
   "id": "5fae3939",
   "metadata": {},
   "outputs": [
    {
     "data": {
      "text/html": [
       "<div>\n",
       "<style scoped>\n",
       "    .dataframe tbody tr th:only-of-type {\n",
       "        vertical-align: middle;\n",
       "    }\n",
       "\n",
       "    .dataframe tbody tr th {\n",
       "        vertical-align: top;\n",
       "    }\n",
       "\n",
       "    .dataframe thead th {\n",
       "        text-align: right;\n",
       "    }\n",
       "</style>\n",
       "<table border=\"1\" class=\"dataframe\">\n",
       "  <thead>\n",
       "    <tr style=\"text-align: right;\">\n",
       "      <th></th>\n",
       "      <th>high_GPA</th>\n",
       "      <th>math_SAT</th>\n",
       "      <th>verb_SAT</th>\n",
       "      <th>comp_GPA</th>\n",
       "    </tr>\n",
       "  </thead>\n",
       "  <tbody>\n",
       "    <tr>\n",
       "      <th>21</th>\n",
       "      <td>2.71</td>\n",
       "      <td>599</td>\n",
       "      <td>562</td>\n",
       "      <td>3.01</td>\n",
       "    </tr>\n",
       "    <tr>\n",
       "      <th>77</th>\n",
       "      <td>2.81</td>\n",
       "      <td>554</td>\n",
       "      <td>509</td>\n",
       "      <td>3.14</td>\n",
       "    </tr>\n",
       "    <tr>\n",
       "      <th>35</th>\n",
       "      <td>2.71</td>\n",
       "      <td>564</td>\n",
       "      <td>543</td>\n",
       "      <td>2.17</td>\n",
       "    </tr>\n",
       "    <tr>\n",
       "      <th>71</th>\n",
       "      <td>3.61</td>\n",
       "      <td>712</td>\n",
       "      <td>708</td>\n",
       "      <td>3.51</td>\n",
       "    </tr>\n",
       "    <tr>\n",
       "      <th>65</th>\n",
       "      <td>3.42</td>\n",
       "      <td>667</td>\n",
       "      <td>583</td>\n",
       "      <td>3.09</td>\n",
       "    </tr>\n",
       "  </tbody>\n",
       "</table>\n",
       "</div>"
      ],
      "text/plain": [
       "    high_GPA  math_SAT  verb_SAT  comp_GPA\n",
       "21      2.71       599       562      3.01\n",
       "77      2.81       554       509      3.14\n",
       "35      2.71       564       543      2.17\n",
       "71      3.61       712       708      3.51\n",
       "65      3.42       667       583      3.09"
      ]
     },
     "execution_count": 92,
     "metadata": {},
     "output_type": "execute_result"
    }
   ],
   "source": [
    "X_train.head()"
   ]
  },
  {
   "cell_type": "markdown",
   "id": "130ceb8b",
   "metadata": {},
   "source": [
    "### Standardization of the Data"
   ]
  },
  {
   "cell_type": "code",
   "execution_count": 93,
   "id": "2a821db9",
   "metadata": {},
   "outputs": [],
   "source": [
    "#Import the necessary library\n",
    "from sklearn.preprocessing import StandardScaler"
   ]
  },
  {
   "cell_type": "code",
   "execution_count": 94,
   "id": "bd51a164",
   "metadata": {},
   "outputs": [],
   "source": [
    "scaler=StandardScaler().fit(X_train) # we want to apply the exact same scaling as for your training data. \n",
    "X_train_sc = scaler.transform(X_train)\n",
    "X_test_sc = scaler.transform(X_test)"
   ]
  },
  {
   "cell_type": "code",
   "execution_count": 95,
   "id": "b45de6cb",
   "metadata": {},
   "outputs": [
    {
     "data": {
      "text/plain": [
       "array([[-0.66135251, -0.42965375, -0.52096577, -0.07889542],\n",
       "       [-0.45968696, -1.25407698, -1.38864403,  0.17751468],\n",
       "       [-0.66135251, -1.07087182, -0.83202024, -1.73569913],\n",
       "       [ 1.15363747,  1.64056459,  1.86924224,  0.90729727],\n",
       "       [ 0.77047292,  0.81614135, -0.17716873,  0.07889542],\n",
       "       [-0.74201873, -0.88766666, -0.91387668,  0.27613395],\n",
       "       [-1.71001339, -0.09988446, -1.48687175, -0.13806698],\n",
       "       [ 0.9116388 ,  1.27415426,  1.45996005,  0.43392478],\n",
       "       [ 1.05280469,  1.73216717,  0.90333626,  0.86784957],\n",
       "       [-0.90335118, -0.33805117, -0.19354002,  0.31558166],\n",
       "       [ 0.10497659, -0.57621788, -0.16079744,  0.23668625],\n",
       "       [ 0.26630903, -0.19148704, -0.06256972,  0.49309634],\n",
       "       [ 0.36714181,  1.25583374,  1.116163  ,  0.45364864],\n",
       "       [-0.41935385, -0.24644859, -0.63556479, -0.53254405],\n",
       "       [-0.52018663, -1.18079492, -1.33953016, -0.35502937],\n",
       "       [-0.23785485, -1.07087182, -0.04619843,  0.07889542],\n",
       "       [-1.81084617, -0.99758976, -0.02982714, -1.12425967],\n",
       "       [-0.84285151, -0.74110253, -0.04619843, -0.15779083],\n",
       "       [ 0.95197191,  0.35812845,  0.41219763,  0.71005874],\n",
       "       [ 0.20580937, -0.31973065,  0.41219763,  0.33530551],\n",
       "       [ 1.75863413,  1.47567994,  1.47633134,  1.55818445],\n",
       "       [-0.8025184 , -0.77774356, -0.91387668, -1.0650881 ],\n",
       "       [-0.39918729, -0.94262821, -0.83202024, -1.73569913],\n",
       "       [-1.26634917, -0.88766666, -0.7501638 ,  0.03944771],\n",
       "       [-0.4395204 , -0.90598717, -0.7501638 , -0.37475322],\n",
       "       [ 1.17380402,  1.12759013,  0.24848475,  0.84812571],\n",
       "       [ 1.05280469,  1.43903891,  1.96746997,  0.84812571],\n",
       "       [-0.78235185, -0.33805117,  0.37945505,  0.5128202 ],\n",
       "       [ 0.89147225,  1.27415426,  1.70552937,  0.96646884],\n",
       "       [-0.41935385, -1.14415389, -0.84839153,  0.23668625],\n",
       "       [ 1.29480335,  1.10926961,  0.78873725,  0.92702113],\n",
       "       [ 0.16547626, -0.74110253,  0.29759862,  0.03944771],\n",
       "       [-1.79067961, -1.07087182, -1.51961433, -1.79487069],\n",
       "       [-1.1655164 , -0.28308962,  0.41219763,  0.23668625],\n",
       "       [ 0.89147225,  1.12759013,  0.90333626,  1.10453581],\n",
       "       [ 0.81080603,  0.35812845,  0.23211346,  0.5128202 ],\n",
       "       [ 0.77047292, -0.06324343,  0.47768278,  0.03944771],\n",
       "       [ 1.81913379,  1.25583374,  0.83785111,  1.8343184 ],\n",
       "       [ 0.75030636,  1.12759013,  1.27987588,  0.90729727],\n",
       "       [ 1.2746368 ,  1.14591065,  0.13388574,  1.5384606 ],\n",
       "       [ 0.20580937, -0.28308962,  0.49405407,  0.45364864],\n",
       "       [-1.04451707, -1.25407698, -1.4213866 , -1.89348996],\n",
       "       [-1.71001339, -1.10751285, -1.4213866 , -1.87376611],\n",
       "       [-0.60085285, -0.72278201, -1.37227274, -1.24260279],\n",
       "       [-1.36718195, -1.1624744 , -0.94661926, -2.01183309],\n",
       "       [ 0.34697525, -0.06324343, -0.34088161, -0.41420093],\n",
       "       [ 0.40747492,  0.37644896,  0.21574218,  0.37475322],\n",
       "       [ 0.04447692,  1.25583374,  1.45996005,  0.27613395],\n",
       "       [ 0.85113914, -1.9502566 , -1.07758956,  0.45364864],\n",
       "       [-2.03267828, -0.99758976, -1.25767373, -1.69625143],\n",
       "       [-1.04451707, -0.72278201, -1.48687175, -1.00591654],\n",
       "       [-1.60918061, -1.25407698, -0.84839153, -1.93293767],\n",
       "       [-1.12518329, -0.88766666,  0.13388574, -1.93293767],\n",
       "       [ 0.60914047,  0.44973103,  0.23211346,  0.23668625],\n",
       "       [ 0.5083077 ,  1.27415426, -0.50459449,  0.23668625],\n",
       "       [-0.68151907, -0.94262821, -1.48687175, -0.05917156],\n",
       "       [ 0.22597592,  0.83446187,  0.16662831, -0.13806698],\n",
       "       [ 0.1453097 ,  1.14591065,  1.64004421,  0.45364864],\n",
       "       [ 1.4561358 , -0.31973065, -0.06256972,  1.36094591],\n",
       "       [ 1.57713513,  1.75048768,  2.26215315,  1.43984133],\n",
       "       [-1.00418395, -1.07087182, -1.53598562, -1.3214982 ],\n",
       "       [ 1.77880068,  1.67720562,  1.83649967,  1.49901289],\n",
       "       [ 0.34697525,  0.96270548,  0.62502437,  0.65088718],\n",
       "       [-0.76218529, -0.28308962, -1.07758956, -0.21696239],\n",
       "       [-0.56051974, -1.07087182, -0.73379252, -1.77514684],\n",
       "       [ 0.30664214,  0.50469258,  1.47633134,  0.11834312],\n",
       "       [ 0.77047292,  0.90774394,  0.21574218,  0.90729727],\n",
       "       [-0.41935385, -0.57621788, -0.16079744, -0.67061103],\n",
       "       [ 0.77047292,  0.52301309,  0.78873725,  0.57199176],\n",
       "       [ 1.37546958,  1.64056459,  0.95245013,  1.16370737],\n",
       "       [-1.62934717, -1.30903853, -0.65193608, -1.73569913],\n",
       "       [ 0.48814114,  0.10164122, -0.22628259,  0.57199176],\n",
       "       [ 0.97213847,  0.61461568,  0.24848475,  0.72978259]])"
      ]
     },
     "execution_count": 95,
     "metadata": {},
     "output_type": "execute_result"
    }
   ],
   "source": [
    "X_train_sc"
   ]
  },
  {
   "cell_type": "markdown",
   "id": "c912bd4a",
   "metadata": {},
   "source": [
    "### Logistic Regression"
   ]
  },
  {
   "cell_type": "code",
   "execution_count": 96,
   "id": "d7795281",
   "metadata": {},
   "outputs": [],
   "source": [
    "#Import the necessary library\n",
    "from sklearn.linear_model import LinearRegression"
   ]
  },
  {
   "cell_type": "code",
   "execution_count": 97,
   "id": "1d9814ab",
   "metadata": {},
   "outputs": [
    {
     "data": {
      "text/plain": [
       "LinearRegression()"
      ]
     },
     "execution_count": 97,
     "metadata": {},
     "output_type": "execute_result"
    }
   ],
   "source": [
    "#Modelling using sklearn\n",
    "model = LinearRegression()\n",
    "model.fit(X_train_sc, y_train) "
   ]
  },
  {
   "cell_type": "code",
   "execution_count": 98,
   "id": "a82ca664",
   "metadata": {},
   "outputs": [
    {
     "data": {
      "text/plain": [
       "3.1186301369863023"
      ]
     },
     "execution_count": 98,
     "metadata": {},
     "output_type": "execute_result"
    }
   ],
   "source": [
    "model.intercept_"
   ]
  },
  {
   "cell_type": "code",
   "execution_count": 99,
   "id": "2d5a2466",
   "metadata": {},
   "outputs": [
    {
     "data": {
      "text/plain": [
       "array([ 0.02524818, -0.05579917,  0.05440528,  0.40334421])"
      ]
     },
     "execution_count": 99,
     "metadata": {},
     "output_type": "execute_result"
    }
   ],
   "source": [
    "model.coef_"
   ]
  },
  {
   "cell_type": "markdown",
   "id": "cdcce8b7",
   "metadata": {},
   "source": [
    "<b> Now we are predicting"
   ]
  },
  {
   "cell_type": "code",
   "execution_count": 100,
   "id": "adb514c4",
   "metadata": {},
   "outputs": [],
   "source": [
    "y_pred=model.predict(X_test_sc)   # model prediction\n",
    "y_pred_train = model.predict(X_train_sc)"
   ]
  },
  {
   "cell_type": "code",
   "execution_count": 101,
   "id": "9efeb389",
   "metadata": {},
   "outputs": [
    {
     "data": {
      "text/html": [
       "<div>\n",
       "<style scoped>\n",
       "    .dataframe tbody tr th:only-of-type {\n",
       "        vertical-align: middle;\n",
       "    }\n",
       "\n",
       "    .dataframe tbody tr th {\n",
       "        vertical-align: top;\n",
       "    }\n",
       "\n",
       "    .dataframe thead th {\n",
       "        text-align: right;\n",
       "    }\n",
       "</style>\n",
       "<table border=\"1\" class=\"dataframe\">\n",
       "  <thead>\n",
       "    <tr style=\"text-align: right;\">\n",
       "      <th></th>\n",
       "      <th>y_test</th>\n",
       "      <th>y_pred</th>\n",
       "    </tr>\n",
       "  </thead>\n",
       "  <tbody>\n",
       "    <tr>\n",
       "      <th>53</th>\n",
       "      <td>2.38</td>\n",
       "      <td>2.676681</td>\n",
       "    </tr>\n",
       "    <tr>\n",
       "      <th>28</th>\n",
       "      <td>3.58</td>\n",
       "      <td>3.247657</td>\n",
       "    </tr>\n",
       "    <tr>\n",
       "      <th>63</th>\n",
       "      <td>3.64</td>\n",
       "      <td>3.689422</td>\n",
       "    </tr>\n",
       "    <tr>\n",
       "      <th>99</th>\n",
       "      <td>2.08</td>\n",
       "      <td>2.374888</td>\n",
       "    </tr>\n",
       "    <tr>\n",
       "      <th>93</th>\n",
       "      <td>3.28</td>\n",
       "      <td>3.277153</td>\n",
       "    </tr>\n",
       "    <tr>\n",
       "      <th>90</th>\n",
       "      <td>3.42</td>\n",
       "      <td>3.540157</td>\n",
       "    </tr>\n",
       "    <tr>\n",
       "      <th>8</th>\n",
       "      <td>3.02</td>\n",
       "      <td>2.958616</td>\n",
       "    </tr>\n",
       "    <tr>\n",
       "      <th>5</th>\n",
       "      <td>2.37</td>\n",
       "      <td>2.710460</td>\n",
       "    </tr>\n",
       "    <tr>\n",
       "      <th>0</th>\n",
       "      <td>3.52</td>\n",
       "      <td>3.679151</td>\n",
       "    </tr>\n",
       "    <tr>\n",
       "      <th>62</th>\n",
       "      <td>3.41</td>\n",
       "      <td>3.577248</td>\n",
       "    </tr>\n",
       "    <tr>\n",
       "      <th>85</th>\n",
       "      <td>3.48</td>\n",
       "      <td>3.357700</td>\n",
       "    </tr>\n",
       "    <tr>\n",
       "      <th>4</th>\n",
       "      <td>3.47</td>\n",
       "      <td>3.301261</td>\n",
       "    </tr>\n",
       "    <tr>\n",
       "      <th>31</th>\n",
       "      <td>3.60</td>\n",
       "      <td>3.693250</td>\n",
       "    </tr>\n",
       "    <tr>\n",
       "      <th>87</th>\n",
       "      <td>3.59</td>\n",
       "      <td>3.689796</td>\n",
       "    </tr>\n",
       "    <tr>\n",
       "      <th>13</th>\n",
       "      <td>3.71</td>\n",
       "      <td>3.544437</td>\n",
       "    </tr>\n",
       "    <tr>\n",
       "      <th>38</th>\n",
       "      <td>3.00</td>\n",
       "      <td>2.881966</td>\n",
       "    </tr>\n",
       "    <tr>\n",
       "      <th>72</th>\n",
       "      <td>3.31</td>\n",
       "      <td>3.403065</td>\n",
       "    </tr>\n",
       "    <tr>\n",
       "      <th>41</th>\n",
       "      <td>3.54</td>\n",
       "      <td>3.694617</td>\n",
       "    </tr>\n",
       "    <tr>\n",
       "      <th>42</th>\n",
       "      <td>3.28</td>\n",
       "      <td>3.216806</td>\n",
       "    </tr>\n",
       "    <tr>\n",
       "      <th>24</th>\n",
       "      <td>3.61</td>\n",
       "      <td>3.714777</td>\n",
       "    </tr>\n",
       "    <tr>\n",
       "      <th>23</th>\n",
       "      <td>3.37</td>\n",
       "      <td>3.072792</td>\n",
       "    </tr>\n",
       "    <tr>\n",
       "      <th>50</th>\n",
       "      <td>3.60</td>\n",
       "      <td>3.734586</td>\n",
       "    </tr>\n",
       "    <tr>\n",
       "      <th>29</th>\n",
       "      <td>3.51</td>\n",
       "      <td>3.661629</td>\n",
       "    </tr>\n",
       "    <tr>\n",
       "      <th>54</th>\n",
       "      <td>3.21</td>\n",
       "      <td>3.329555</td>\n",
       "    </tr>\n",
       "    <tr>\n",
       "      <th>19</th>\n",
       "      <td>2.37</td>\n",
       "      <td>2.448947</td>\n",
       "    </tr>\n",
       "    <tr>\n",
       "      <th>59</th>\n",
       "      <td>3.47</td>\n",
       "      <td>3.290302</td>\n",
       "    </tr>\n",
       "    <tr>\n",
       "      <th>33</th>\n",
       "      <td>3.76</td>\n",
       "      <td>3.798592</td>\n",
       "    </tr>\n",
       "    <tr>\n",
       "      <th>102</th>\n",
       "      <td>3.25</td>\n",
       "      <td>3.260255</td>\n",
       "    </tr>\n",
       "    <tr>\n",
       "      <th>82</th>\n",
       "      <td>3.71</td>\n",
       "      <td>3.906321</td>\n",
       "    </tr>\n",
       "    <tr>\n",
       "      <th>9</th>\n",
       "      <td>3.32</td>\n",
       "      <td>3.432124</td>\n",
       "    </tr>\n",
       "    <tr>\n",
       "      <th>79</th>\n",
       "      <td>3.29</td>\n",
       "      <td>3.381243</td>\n",
       "    </tr>\n",
       "    <tr>\n",
       "      <th>84</th>\n",
       "      <td>3.34</td>\n",
       "      <td>3.351617</td>\n",
       "    </tr>\n",
       "  </tbody>\n",
       "</table>\n",
       "</div>"
      ],
      "text/plain": [
       "     y_test    y_pred\n",
       "53     2.38  2.676681\n",
       "28     3.58  3.247657\n",
       "63     3.64  3.689422\n",
       "99     2.08  2.374888\n",
       "93     3.28  3.277153\n",
       "90     3.42  3.540157\n",
       "8      3.02  2.958616\n",
       "5      2.37  2.710460\n",
       "0      3.52  3.679151\n",
       "62     3.41  3.577248\n",
       "85     3.48  3.357700\n",
       "4      3.47  3.301261\n",
       "31     3.60  3.693250\n",
       "87     3.59  3.689796\n",
       "13     3.71  3.544437\n",
       "38     3.00  2.881966\n",
       "72     3.31  3.403065\n",
       "41     3.54  3.694617\n",
       "42     3.28  3.216806\n",
       "24     3.61  3.714777\n",
       "23     3.37  3.072792\n",
       "50     3.60  3.734586\n",
       "29     3.51  3.661629\n",
       "54     3.21  3.329555\n",
       "19     2.37  2.448947\n",
       "59     3.47  3.290302\n",
       "33     3.76  3.798592\n",
       "102    3.25  3.260255\n",
       "82     3.71  3.906321\n",
       "9      3.32  3.432124\n",
       "79     3.29  3.381243\n",
       "84     3.34  3.351617"
      ]
     },
     "execution_count": 101,
     "metadata": {},
     "output_type": "execute_result"
    }
   ],
   "source": [
    "result=pd.DataFrame({\"y_test\":y_test,\"y_pred\":y_pred})\n",
    "result"
   ]
  },
  {
   "cell_type": "markdown",
   "id": "539a7ee1",
   "metadata": {},
   "source": [
    "#### Making the Seaborn Residual plot"
   ]
  },
  {
   "cell_type": "code",
   "execution_count": 102,
   "id": "8523ca44",
   "metadata": {},
   "outputs": [
    {
     "data": {
      "text/plain": [
       "<AxesSubplot:xlabel='y_pred', ylabel='y_test'>"
      ]
     },
     "execution_count": 102,
     "metadata": {},
     "output_type": "execute_result"
    },
    {
     "data": {
      "image/png": "[encoded data removed]",
      "text/plain": [
       "<Figure size 720x360 with 1 Axes>"
      ]
     },
     "metadata": {
      "needs_background": "light"
     },
     "output_type": "display_data"
    }
   ],
   "source": [
    "plt.figure(figsize=(10,5))\n",
    "sns.regplot(x='y_pred',y='y_test', data=result, scatter_kws={\"color\": \"#C8A2C8\"}, line_kws={\"color\": \"purple\"})"
   ]
  },
  {
   "cell_type": "markdown",
   "id": "abef5bb2",
   "metadata": {},
   "source": [
    "#### Get the Error"
   ]
  },
  {
   "cell_type": "code",
   "execution_count": 103,
   "id": "b4cd1ec8",
   "metadata": {},
   "outputs": [],
   "source": [
    "from sklearn.metrics import r2_score\n",
    "from sklearn.metrics import mean_squared_error as mse\n",
    "from sklearn.metrics import mean_absolute_error as mae"
   ]
  },
  {
   "cell_type": "code",
   "execution_count": 104,
   "id": "64566517",
   "metadata": {},
   "outputs": [
    {
     "data": {
      "text/plain": [
       "0.8452486058436366"
      ]
     },
     "execution_count": 104,
     "metadata": {},
     "output_type": "execute_result"
    }
   ],
   "source": [
    "Test_R2=r2_score(y_test,y_pred)\n",
    "Test_R2"
   ]
  },
  {
   "cell_type": "code",
   "execution_count": 105,
   "id": "c8de2c74",
   "metadata": {},
   "outputs": [
    {
     "data": {
      "text/plain": [
       "0.8980155948409542"
      ]
     },
     "execution_count": 105,
     "metadata": {},
     "output_type": "execute_result"
    }
   ],
   "source": [
    "Train_R2=r2_score(y_train,y_pred_train)\n",
    "Train_R2"
   ]
  },
  {
   "cell_type": "code",
   "execution_count": 106,
   "id": "52588cdc",
   "metadata": {},
   "outputs": [
    {
     "data": {
      "text/plain": [
       "0.11085182053147788"
      ]
     },
     "execution_count": 106,
     "metadata": {},
     "output_type": "execute_result"
    }
   ],
   "source": [
    "MAE = mae(y_train,y_pred_train)\n",
    "MAE"
   ]
  },
  {
   "cell_type": "code",
   "execution_count": 107,
   "id": "ed9cd9b9",
   "metadata": {},
   "outputs": [
    {
     "data": {
      "text/plain": [
       "0.020220661778158476"
      ]
     },
     "execution_count": 107,
     "metadata": {},
     "output_type": "execute_result"
    }
   ],
   "source": [
    "MSE = mse(y_train,y_pred_train)\n",
    "MSE"
   ]
  },
  {
   "cell_type": "code",
   "execution_count": 108,
   "id": "404340bf",
   "metadata": {},
   "outputs": [],
   "source": [
    "#X_train=pd.DataFrame(X_train, columns=X_train.columns,index=X_train.index)\n",
    "#X_train"
   ]
  },
  {
   "cell_type": "markdown",
   "id": "8ddfdc7e",
   "metadata": {},
   "source": [
    "### Without the standardization"
   ]
  },
  {
   "cell_type": "code",
   "execution_count": 109,
   "id": "faf5797d",
   "metadata": {},
   "outputs": [
    {
     "data": {
      "text/plain": [
       "LinearRegression()"
      ]
     },
     "execution_count": 109,
     "metadata": {},
     "output_type": "execute_result"
    }
   ],
   "source": [
    "model = LinearRegression()\n",
    "model.fit(X_train, y_train) "
   ]
  },
  {
   "cell_type": "code",
   "execution_count": 110,
   "id": "1fbde17e",
   "metadata": {},
   "outputs": [
    {
     "data": {
      "text/plain": [
       "0.6449250750755162"
      ]
     },
     "execution_count": 110,
     "metadata": {},
     "output_type": "execute_result"
    }
   ],
   "source": [
    "model.intercept_"
   ]
  },
  {
   "cell_type": "code",
   "execution_count": 111,
   "id": "9d40836a",
   "metadata": {},
   "outputs": [],
   "source": [
    "y_pred1=model.predict(X_test)   # model prediction\n",
    "y_pred_train1=model.predict(X_train)"
   ]
  },
  {
   "cell_type": "code",
   "execution_count": 112,
   "id": "7fbb24a3",
   "metadata": {},
   "outputs": [
    {
     "data": {
      "text/plain": [
       "0.8452486058436361"
      ]
     },
     "execution_count": 112,
     "metadata": {},
     "output_type": "execute_result"
    }
   ],
   "source": [
    "Test_R2_1=r2_score(y_test,y_pred1)\n",
    "Test_R2_1"
   ]
  },
  {
   "cell_type": "code",
   "execution_count": 113,
   "id": "5d295bf3",
   "metadata": {},
   "outputs": [
    {
     "data": {
      "text/plain": [
       "0.8980155948409543"
      ]
     },
     "execution_count": 113,
     "metadata": {},
     "output_type": "execute_result"
    }
   ],
   "source": [
    "Train_R2_1=r2_score(y_train,y_pred_train1)\n",
    "Train_R2_1"
   ]
  },
  {
   "cell_type": "markdown",
   "id": "98a67698",
   "metadata": {},
   "source": [
    "#### Compare standardized and not standardized results"
   ]
  },
  {
   "cell_type": "code",
   "execution_count": 115,
   "id": "55ea5c67",
   "metadata": {},
   "outputs": [
    {
     "name": "stdout",
     "output_type": "stream",
     "text": [
      "r2_test for Standardized: 0.8452486058436361\n",
      "r2_test for not Standardized: 0.8452486058436366\n"
     ]
    }
   ],
   "source": [
    "print(\"r2_test for Standardized:\", Test_R2_1)\n",
    "print(\"r2_test for not Standardized:\", Test_R2)"
   ]
  },
  {
   "cell_type": "code",
   "execution_count": 77,
   "id": "d85673f3",
   "metadata": {},
   "outputs": [
    {
     "data": {
      "text/html": [
       "<div>\n",
       "<style scoped>\n",
       "    .dataframe tbody tr th:only-of-type {\n",
       "        vertical-align: middle;\n",
       "    }\n",
       "\n",
       "    .dataframe tbody tr th {\n",
       "        vertical-align: top;\n",
       "    }\n",
       "\n",
       "    .dataframe thead th {\n",
       "        text-align: right;\n",
       "    }\n",
       "</style>\n",
       "<table border=\"1\" class=\"dataframe\">\n",
       "  <thead>\n",
       "    <tr style=\"text-align: right;\">\n",
       "      <th></th>\n",
       "      <th>Attribute</th>\n",
       "      <th>Importance</th>\n",
       "    </tr>\n",
       "  </thead>\n",
       "  <tbody>\n",
       "    <tr>\n",
       "      <th>3</th>\n",
       "      <td>comp_GPA</td>\n",
       "      <td>0.403344</td>\n",
       "    </tr>\n",
       "    <tr>\n",
       "      <th>1</th>\n",
       "      <td>math_SAT</td>\n",
       "      <td>0.055799</td>\n",
       "    </tr>\n",
       "    <tr>\n",
       "      <th>2</th>\n",
       "      <td>verb_SAT</td>\n",
       "      <td>0.054405</td>\n",
       "    </tr>\n",
       "    <tr>\n",
       "      <th>0</th>\n",
       "      <td>high_GPA</td>\n",
       "      <td>0.025248</td>\n",
       "    </tr>\n",
       "  </tbody>\n",
       "</table>\n",
       "</div>"
      ],
      "text/plain": [
       "  Attribute  Importance\n",
       "3  comp_GPA    0.403344\n",
       "1  math_SAT    0.055799\n",
       "2  verb_SAT    0.054405\n",
       "0  high_GPA    0.025248"
      ]
     },
     "execution_count": 77,
     "metadata": {},
     "output_type": "execute_result"
    }
   ],
   "source": [
    "# magnitude is important, I am checking which one is effecting my model most\n",
    "\n",
    "features_importances = pd.DataFrame(data={\n",
    "    'Attribute': X_train.columns,\n",
    "    'Importance': abs(model.coef_)\n",
    "})\n",
    "features_importances = features_importances.sort_values(by='Importance', ascending=False)\n",
    "features_importances"
   ]
  },
  {
   "cell_type": "code",
   "execution_count": 78,
   "id": "ab7cc5f0",
   "metadata": {},
   "outputs": [
    {
     "data": {
      "image/png": "[encoded data removed]",
      "text/plain": [
       "<Figure size 1440x360 with 1 Axes>"
      ]
     },
     "metadata": {
      "needs_background": "light"
     },
     "output_type": "display_data"
    }
   ],
   "source": [
    "plt.figure(figsize=(20,5)) # this one I add to make it smaller\n",
    "plt.bar(x=features_importances['Attribute'], height=features_importances['Importance'], color='#087E8B')\n",
    "plt.title('Feature importances obtained from coefficients', size=20)\n",
    "plt.xticks(rotation='vertical')\n",
    "plt.show()"
   ]
  },
  {
   "cell_type": "code",
   "execution_count": null,
   "id": "14538dc3",
   "metadata": {},
   "outputs": [],
   "source": []
  },
  {
   "cell_type": "code",
   "execution_count": null,
   "id": "9c58b9b9",
   "metadata": {},
   "outputs": [],
   "source": []
  },
  {
   "cell_type": "code",
   "execution_count": null,
   "id": "c2cd96a3",
   "metadata": {},
   "outputs": [],
   "source": []
  }
 ],
 "metadata": {
  "kernelspec": {
   "display_name": "Python 3 (ipykernel)",
   "language": "python",
   "name": "python3"
  },
  "language_info": {
   "codemirror_mode": {
    "name": "ipython",
    "version": 3
   },
   "file_extension": ".py",
   "mimetype": "text/x-python",
   "name": "python",
   "nbconvert_exporter": "python",
   "pygments_lexer": "ipython3",
   "version": "3.9.7"
  }
 },
 "nbformat": 4,
 "nbformat_minor": 5
}
